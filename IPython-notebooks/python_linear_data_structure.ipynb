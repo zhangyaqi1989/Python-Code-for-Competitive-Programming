{
 "cells": [
  {
   "cell_type": "code",
   "execution_count": 1,
   "metadata": {},
   "outputs": [],
   "source": [
    "import sys, collections, functools, itertools, heapq, pprint, bisect, operator, math, random"
   ]
  },
  {
   "cell_type": "markdown",
   "metadata": {},
   "source": [
    "# 1. List\n",
    "List is perhaps the most frequently used python built-in data structure. Basically you can treat it as a resizable array which is similar to vector in STL and ArrayList in Java."
   ]
  },
  {
   "cell_type": "code",
   "execution_count": 2,
   "metadata": {},
   "outputs": [],
   "source": [
    "# initialization\n",
    "lst1 = [1, 45, 10]\n",
    "lst2 = list(range(5, 10)) # initialize to a range\n",
    "lst3 = [0] * 10 # initialize to same thing, make sure you understand what happens here, check the below example\n",
    "print(lst1)\n",
    "print(lst2)\n",
    "print(lst3)\n",
    "## high level\n",
    "lst4 = [[]] * 3 # when you use [item] * num to init a list and item is mutable, basically the list contains num references pointing to one object\n",
    "print(lst4)\n",
    "lst4[0].append(10)\n",
    "print(lst4)\n",
    "# sometimes this is used for some reason\n",
    "lst = list(range(20))\n",
    "iters = [iter(lst)] * 4\n",
    "print(list(zip(*iters)))"
   ]
  },
  {
   "cell_type": "code",
   "execution_count": 3,
   "metadata": {},
   "outputs": [
    {
     "name": "stdout",
     "output_type": "stream",
     "text": [
      "length of lst is 10.\n",
      "[1, 0, 0, 0, 0, 0, 0, 0, 0, 0]\n"
     ]
    }
   ],
   "source": [
    "# length of list, list is zero-indexed\n",
    "lst = [0] * 10\n",
    "print('length of lst is {:d}.'.format(len(lst)))\n",
    "lst[0] = 1\n",
    "print(lst)"
   ]
  },
  {
   "cell_type": "code",
   "execution_count": 6,
   "metadata": {},
   "outputs": [
    {
     "name": "stdout",
     "output_type": "stream",
     "text": [
      "a\n",
      "p\n",
      "p\n",
      "l\n",
      "e\n",
      "a\n",
      "p\n",
      "p\n",
      "l\n",
      "e\n",
      "lst[0] = a\n",
      "lst[1] = p\n",
      "lst[2] = p\n",
      "lst[3] = l\n",
      "lst[4] = e\n",
      "index = 1, item = a\n",
      "index = 2, item = p\n",
      "index = 3, item = p\n",
      "index = 4, item = l\n",
      "index = 5, item = e\n"
     ]
    }
   ],
   "source": [
    "# traverse list\n",
    "lst = list(\"apple\")\n",
    "for item in lst:\n",
    "    print(item)\n",
    "for i in range(len(lst)):\n",
    "    print(lst[i])\n",
    "# if you want the index, item at the same time\n",
    "for idx, item in enumerate(lst):\n",
    "    print('lst[{}] = {}'.format(idx, item))\n",
    "# you can specify the start index in enumerate\n",
    "for idx, item in enumerate(lst, 1):\n",
    "    print('index = {}, item = {}'.format(idx, item))"
   ]
  },
  {
   "cell_type": "code",
   "execution_count": 7,
   "metadata": {},
   "outputs": [
    {
     "name": "stdout",
     "output_type": "stream",
     "text": [
      "Before sort:\n",
      "[9, 3, 2, 4, 1, 5, 10, 10, 9, 9, 10, 2, 5, 10, 3, 0, 4, 4, 9, 0]\n",
      "After sort:\n",
      "[0, 0, 1, 2, 2, 3, 3, 4, 4, 4, 5, 5, 9, 9, 9, 9, 10, 10, 10, 10]\n",
      "Sorted list:\n",
      "[0, 0, 0, 1, 3, 4, 5, 5, 5, 6, 6, 7, 7, 8, 8, 8, 8, 9, 9, 10]\n",
      "Original list:\n",
      "[6, 7, 0, 7, 9, 0, 3, 4, 9, 5, 8, 8, 8, 1, 5, 10, 8, 0, 6, 5]\n"
     ]
    }
   ],
   "source": [
    "# how to sort a list\n",
    "lst = [random.randint(0, 10) for _ in range(20)]\n",
    "print(\"Before sort:\")\n",
    "print(lst)\n",
    "print(\"After sort:\")\n",
    "lst.sort() # this will change lst\n",
    "print(lst)\n",
    "\n",
    "# If you do not want to change the original list, you can use sorted() function\n",
    "lst = [random.randint(0, 10) for _ in range(20)]\n",
    "print(\"Sorted list:\")\n",
    "print(sorted(lst))\n",
    "print(\"Original list:\")\n",
    "print(lst)"
   ]
  },
  {
   "cell_type": "code",
   "execution_count": 9,
   "metadata": {},
   "outputs": [
    {
     "name": "stdout",
     "output_type": "stream",
     "text": [
      "[5, 4, 3, 2, 1]\n"
     ]
    }
   ],
   "source": [
    "# sort the list in descending order\n",
    "lst = [3, 4, 1, 5, 2]\n",
    "lst.sort(reverse=True)\n",
    "print(lst)"
   ]
  },
  {
   "cell_type": "code",
   "execution_count": 11,
   "metadata": {},
   "outputs": [
    {
     "name": "stdout",
     "output_type": "stream",
     "text": [
      "4\n",
      "[1, 2, 3, 5]\n"
     ]
    }
   ],
   "source": [
    "# list could be used to simulate the behavior of stack\n",
    "lst = [1, 2, 3, 4]\n",
    "print(lst.pop())\n",
    "lst.append(5)\n",
    "print(lst)"
   ]
  },
  {
   "cell_type": "code",
   "execution_count": 27,
   "metadata": {},
   "outputs": [
    {
     "name": "stdout",
     "output_type": "stream",
     "text": [
      "[9, 1, 2, 3, 4]\n",
      "[9, 2, 3, 4]\n",
      "[2, 3, 4]\n",
      "[1, 2, 3, 1, 2, 3, 1]\n",
      "number of 1 is 3\n",
      "index of 1 is 0\n",
      "3\n",
      "[1, 2, 3]\n",
      "[1, 2, 3, 4, 5, 6]\n",
      "[1, 2, 3, 4, 5, 6, 7, 8]\n",
      "[1, 2, 1, 1]\n",
      "[2, 1, 1]\n",
      "[3, 2, 1]\n"
     ]
    }
   ],
   "source": [
    "# some useful methods of Python list\n",
    "# 1. insert an element at index\n",
    "lst = [1, 2, 3, 4]\n",
    "lst.insert(0, 9) # note that this is a \n",
    "print(lst)\n",
    "\n",
    "# 2. delete an element at index\n",
    "del lst[1]\n",
    "print(lst)\n",
    "\n",
    "lst.pop(0)\n",
    "print(lst)\n",
    "\n",
    "# 3. count the occurance of an element\n",
    "lst = [1, 2, 3, 1, 2, 3, 1]\n",
    "print(lst)\n",
    "print(\"number of 1 is {}\".format(lst.count(1)))\n",
    "\n",
    "# 4. first index of an element \n",
    "print(\"index of 1 is {}\".format(lst.index(1)))\n",
    "# you can specify the start index to search\n",
    "print(lst.index(1, 2))\n",
    "\n",
    "# 5. append a list to a list\n",
    "lst = [1, 2, 3]\n",
    "print(lst)\n",
    "lst.extend([4, 5, 6])\n",
    "print(lst)\n",
    "# or you can use\n",
    "lst += [7, 8]\n",
    "print(lst)\n",
    "\n",
    "# 6. remove the first occurance of an element\n",
    "lst = [1, 2, 1, 1]\n",
    "print(lst)\n",
    "lst.remove(1)\n",
    "print(lst)\n",
    "\n",
    "# 7. reverse the list\n",
    "lst = [1, 2, 3]\n",
    "lst.reverse()\n",
    "print(lst)"
   ]
  },
  {
   "cell_type": "code",
   "execution_count": 33,
   "metadata": {},
   "outputs": [
    {
     "name": "stdout",
     "output_type": "stream",
     "text": [
      "[0, 1, 2, 3, 4, 5, 6, 7, 8, 9]\n",
      "[0, 2, 4, 6, 8]\n",
      "[1, 3, 5, 7, 9]\n",
      "[9, 8, 7, 6, 5, 4, 3, 2, 1, 0]\n"
     ]
    }
   ],
   "source": [
    "# slice [start:end:step]\n",
    "lst = list(range(10))\n",
    "print(lst)\n",
    "# elements at even indexes\n",
    "evens = lst[::2]\n",
    "# elements at odd indexes\n",
    "odds = lst[1::2]\n",
    "print(evens)\n",
    "print(odds)\n",
    "\n",
    "print(lst[::-1]) # create a reverse copy of lst"
   ]
  },
  {
   "cell_type": "code",
   "execution_count": 36,
   "metadata": {},
   "outputs": [
    {
     "name": "stdout",
     "output_type": "stream",
     "text": [
      "[0, 2, 3]\n",
      "[0, 2, 3]\n",
      "[0, 2, 3]\n"
     ]
    }
   ],
   "source": [
    "# copy a list\n",
    "a = [1, 2, 3]\n",
    "b = a # this is not copy\n",
    "b[0] = 0\n",
    "print(a)\n",
    "b = a.copy()\n",
    "b[1] = 10\n",
    "print(a)\n",
    "b = a[:]\n",
    "print(b)"
   ]
  },
  {
   "cell_type": "code",
   "execution_count": 31,
   "metadata": {},
   "outputs": [],
   "source": [
    "# list comprehension"
   ]
  },
  {
   "cell_type": "code",
   "execution_count": null,
   "metadata": {},
   "outputs": [],
   "source": []
  }
 ],
 "metadata": {
  "kernelspec": {
   "display_name": "Python 3",
   "language": "python",
   "name": "python3"
  },
  "language_info": {
   "codemirror_mode": {
    "name": "ipython",
    "version": 3
   },
   "file_extension": ".py",
   "mimetype": "text/x-python",
   "name": "python",
   "nbconvert_exporter": "python",
   "pygments_lexer": "ipython3",
   "version": "3.6.3"
  }
 },
 "nbformat": 4,
 "nbformat_minor": 2
}
