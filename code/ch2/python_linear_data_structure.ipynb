{
 "cells": [
  {
   "cell_type": "code",
   "execution_count": 1,
   "metadata": {},
   "outputs": [],
   "source": [
    "import sys, collections, functools, itertools, heapq, pprint, bisect, operator, math, random"
   ]
  },
  {
   "cell_type": "markdown",
   "metadata": {},
   "source": [
    "# 1. List\n",
    "List is perhaps the most frequently used python built-in data structure. Basically you can treat it as a resizable array which is similar to vector in STL and ArrayList in Java."
   ]
  },
  {
   "cell_type": "code",
   "execution_count": 2,
   "metadata": {},
   "outputs": [
    {
     "name": "stdout",
     "output_type": "stream",
     "text": [
      "[1, 45, 10]\n",
      "[5, 6, 7, 8, 9]\n",
      "[0, 0, 0, 0, 0, 0, 0, 0, 0, 0]\n",
      "[[], [], []]\n",
      "[[10], [10], [10]]\n",
      "[(0, 1, 2, 3), (4, 5, 6, 7), (8, 9, 10, 11), (12, 13, 14, 15), (16, 17, 18, 19)]\n"
     ]
    }
   ],
   "source": [
    "# initialization\n",
    "lst1 = [1, 45, 10]\n",
    "lst2 = list(range(5, 10)) # initialize to a range\n",
    "lst3 = [0] * 10 # initialize to same thing, make sure you understand what happens here, check the below example\n",
    "print(lst1)\n",
    "print(lst2)\n",
    "print(lst3)\n",
    "## high level stuff\n",
    "lst4 = [[]] * 3 # when you use [item] * num to init a list and item is mutable, basically the list contains num references pointing to one object\n",
    "print(lst4)\n",
    "lst4[0].append(10)\n",
    "print(lst4)\n",
    "# sometimes this is used for some reason\n",
    "lst = list(range(20))\n",
    "iters = [iter(lst)] * 4\n",
    "print(list(zip(*iters)))"
   ]
  },
  {
   "cell_type": "code",
   "execution_count": 5,
   "metadata": {},
   "outputs": [
    {
     "name": "stdout",
     "output_type": "stream",
     "text": [
      "length of lst is 10.\n",
      "[1, 0, 0, 0, 0, 0, 0, 0, 0, 0]\n"
     ]
    }
   ],
   "source": [
    "# length of list, list is zero-indexed\n",
    "lst = [0] * 10\n",
    "print('length of lst is {:d}.'.format(len(lst)))\n",
    "lst[0] = 1\n",
    "print(lst)"
   ]
  },
  {
   "cell_type": "code",
   "execution_count": 7,
   "metadata": {},
   "outputs": [
    {
     "name": "stdout",
     "output_type": "stream",
     "text": [
      "a\n",
      "p\n",
      "p\n",
      "l\n",
      "e\n",
      "a\n",
      "p\n",
      "p\n",
      "l\n",
      "e\n",
      "lst[0] = a\n",
      "lst[1] = p\n",
      "lst[2] = p\n",
      "lst[3] = l\n",
      "lst[4] = e\n"
     ]
    }
   ],
   "source": [
    "# traverse list\n",
    "lst = list(\"apple\")\n",
    "for item in lst:\n",
    "    print(item)\n",
    "for i in range(len(lst)):\n",
    "    print(lst[i])\n",
    "# if you want the index, item at the same time\n",
    "for idx, item in enumerate(lst):\n",
    "    print('lst[{}] = {}'.format(idx, item))"
   ]
  },
  {
   "cell_type": "code",
   "execution_count": 13,
   "metadata": {},
   "outputs": [
    {
     "name": "stdout",
     "output_type": "stream",
     "text": [
      "Before sort:\n",
      "[9, 1, 6, 4, 4, 5, 10, 4, 3, 5, 6, 0, 2, 7, 6, 5, 3, 0, 4, 7]\n",
      "After sort:\n",
      "[0, 0, 1, 2, 3, 3, 4, 4, 4, 4, 5, 5, 5, 6, 6, 6, 7, 7, 9, 10]\n"
     ]
    }
   ],
   "source": [
    "# how to sort a list\n",
    "lst = [random.randint(0, 10) for _ in range(20)]\n",
    "print(\"Before sort:\")\n",
    "print(lst)\n",
    "print(\"After sort:\")\n",
    "lst.sort() # this will change lst\n",
    "print(lst)"
   ]
  },
  {
   "cell_type": "code",
   "execution_count": null,
   "metadata": {},
   "outputs": [],
   "source": []
  }
 ],
 "metadata": {
  "kernelspec": {
   "display_name": "Python 3",
   "language": "python",
   "name": "python3"
  },
  "language_info": {
   "codemirror_mode": {
    "name": "ipython",
    "version": 3
   },
   "file_extension": ".py",
   "mimetype": "text/x-python",
   "name": "python",
   "nbconvert_exporter": "python",
   "pygments_lexer": "ipython3",
   "version": "3.6.6"
  }
 },
 "nbformat": 4,
 "nbformat_minor": 2
}
